{
 "cells": [
  {
   "cell_type": "code",
   "execution_count": 1,
   "id": "50f63731",
   "metadata": {},
   "outputs": [
    {
     "name": "stdout",
     "output_type": "stream",
     "text": [
      "Hello\n",
      "World!\n",
      "Hlo ol!\n"
     ]
    }
   ],
   "source": [
    "\n",
    "\"\"\"1. String Slicing in Python\n",
    "String slicing allows extracting a portion (substring) of a string using the colon (:) operator. You specify a start and end index, and optionally a step. The syntax is:\n",
    "string[start:end:step]\"\"\"\n",
    "s = \"Hello, World!\"\n",
    "print(s[0:5])  # Output: Hello (characters from index 0 to 4)\n",
    "print(s[7:])   # Output: World! (characters from index 7 to the end)\n",
    "print(s[::2])  # Output: Hlo ol! (every second character)\n"
   ]
  },
  {
   "cell_type": "raw",
   "id": "2ead1829",
   "metadata": {},
   "source": [
    "\n",
    "# 2 Explain the key features of lists in Python\n",
    "Mutable: Lists can be modified (i.e., elements can be added, removed, or changed).\n",
    "Ordered: The elements in a list maintain their order.\n",
    "Heterogeneous: Lists can contain elements of different types (e.g., integers, strings, objects).\n",
    "Dynamic sizing: Lists can grow or shrink as needed."
   ]
  },
  {
   "cell_type": "code",
   "execution_count": 2,
   "id": "57087e98",
   "metadata": {},
   "outputs": [
    {
     "name": "stdout",
     "output_type": "stream",
     "text": [
      "20\n",
      "[10, 20, 100, 40]\n",
      "[10, 100, 40]\n"
     ]
    }
   ],
   "source": [
    "# 3 Describe how to access, modify, and delete elements in a list with examples\n",
    "my_list = [10, 20, 30, 40]\n",
    "print(my_list[1])  # Output: 20\n",
    "my_list[2] = 100\n",
    "print(my_list)  # Output: [10, 20, 100, 40]\n",
    "del my_list[1]\n",
    "print(my_list)  # Output: [10, 100, 40]\n"
   ]
  },
  {
   "cell_type": "code",
   "execution_count": 3,
   "id": "e023b318",
   "metadata": {},
   "outputs": [
    {
     "name": "stdout",
     "output_type": "stream",
     "text": [
      "[10, 2, 3]\n",
      "(1, 2, 3)\n"
     ]
    }
   ],
   "source": [
    "# 4 Compare and contrast tuples and lists with examples \n",
    "\"\"\"Lists:\n",
    "\n",
    "Mutable (elements can be changed).\n",
    "Dynamic in size.\n",
    "Defined with square brackets ([]).\n",
    "\"\"\"\n",
    "my_list = [1, 2, 3]\n",
    "my_list[0] = 10  # Changing value\n",
    "print(my_list)   # Output: [10, 2, 3]\n",
    "\n",
    "\"\"\"Tuples:Immutable (cannot be modified once created).\n",
    "Defined with parentheses (()).\n",
    "Use less memory compared to lists.\n",
    "Ideal for fixed data collections like coordinates\"\"\"\n",
    "my_tuple = (1, 2, 3)\n",
    "# my_tuple[0] = 10  # Raises a TypeError\n",
    "print(my_tuple)  # Output: (1, 2, 3)\n"
   ]
  },
  {
   "cell_type": "code",
   "execution_count": 4,
   "id": "84c042d2",
   "metadata": {},
   "outputs": [
    {
     "name": "stdout",
     "output_type": "stream",
     "text": [
      "{1, 2, 3}\n"
     ]
    }
   ],
   "source": [
    "#5. Key Features of Sets\n",
    "'''Unordered: Sets do not maintain the order of elements.\n",
    "Unique elements: Duplicates are automatically removed.\n",
    "Mutable: Sets can be modified (i.e., elements can be added or removed).\n",
    "No indexing: Since sets are unordered, indexing is not supported'''\n",
    "my_set = {1, 2, 2, 3}\n",
    "print(my_set)  # Output: {1, 2, 3} (no duplicates)\n"
   ]
  },
  {
   "cell_type": "code",
   "execution_count": 8,
   "id": "309126cb",
   "metadata": {},
   "outputs": [
    {
     "name": "stdout",
     "output_type": "stream",
     "text": [
      "('Monday', 'Tuesday', 'Wednesday')\n",
      "{2, 3}\n"
     ]
    }
   ],
   "source": [
    "# 6 Discuss the use cases of tuples and sets in Python programming\n",
    "'''Tuples:\n",
    "\n",
    "Used when the collection of elements should not be changed (e.g., representing a fixed coordinate (x, y) or days of the week).'''\n",
    "days_of_week = (\"Monday\", \"Tuesday\", \"Wednesday\")\n",
    "print(days_of_week)\n",
    "\n",
    "\"\"\"Sets:\n",
    "\n",
    "Useful in cases requiring unique elements or set operations (like union, intersection, and difference).\"\"\"\n",
    "set_a = {1, 2, 3}\n",
    "set_b = {2, 3, 4}\n",
    "print(set_a & set_b)  # Output: {2, 3} (intersection)\n"
   ]
  },
  {
   "cell_type": "code",
   "execution_count": 9,
   "id": "5f730bb2",
   "metadata": {},
   "outputs": [
    {
     "name": "stdout",
     "output_type": "stream",
     "text": [
      "{'name': 'Alice', 'age': 26, 'location': 'NY'}\n",
      "{'name': 'Alice', 'location': 'NY'}\n",
      "NY\n",
      "{'name': 'Alice'}\n"
     ]
    }
   ],
   "source": [
    "# 7 Describe how to add, modify, and delete items in a dictionary with examples\n",
    "my_dict = {\"name\": \"Alice\", \"age\": 25}\n",
    "my_dict[\"location\"] = \"NY\"  # Adding a new key-value pair\n",
    "my_dict[\"age\"] = 26         # Modifying an existing value\n",
    "print(my_dict)  # Output: {'name': 'Alice', 'age': 26, 'location': 'NY'}\n",
    "\n",
    "del my_dict[\"age\"]\n",
    "print(my_dict)  # Output: {'name': 'Alice', 'location': 'NY'}\n",
    "location = my_dict.pop(\"location\")\n",
    "print(location)  # Output: 'NY'\n",
    "print(my_dict)   # Output: {'name': 'Alice'}\n"
   ]
  },
  {
   "cell_type": "raw",
   "id": "e0c57159",
   "metadata": {},
   "source": [
    "# 8  Discuss the importance of dictionary keys being immutable and provide examples\n",
    "Dictionary keys must be immutable (i.e., unchangeable) because keys are hashed for efficient access. If keys were mutable and could change after being inserted into the dictionary, the hash table would become invalid."
   ]
  },
  {
   "cell_type": "code",
   "execution_count": 11,
   "id": "2603e1c7",
   "metadata": {},
   "outputs": [
    {
     "name": "stdout",
     "output_type": "stream",
     "text": [
      "{1: 'one', 'name': 'Alice', (1, 2): 'coordinates'}\n"
     ]
    }
   ],
   "source": [
    "# Immutable types as keys (e.g., int, string, tuple)\n",
    "my_dict = {1: \"one\", \"name\": \"Alice\", (1, 2): \"coordinates\"}\n",
    "print(my_dict)  # Output: {1: 'one', 'name': 'Alice', (1, 2): 'coordinates'}\n",
    "\n",
    "# Mutable types (like lists) cannot be used as keys\n",
    "# my_dict = {[1, 2]: \"value\"}  # Raises a TypeError\n"
   ]
  },
  {
   "cell_type": "code",
   "execution_count": null,
   "id": "cb69d581",
   "metadata": {},
   "outputs": [],
   "source": []
  }
 ],
 "metadata": {
  "kernelspec": {
   "display_name": "Python 3 (ipykernel)",
   "language": "python",
   "name": "python3"
  },
  "language_info": {
   "codemirror_mode": {
    "name": "ipython",
    "version": 3
   },
   "file_extension": ".py",
   "mimetype": "text/x-python",
   "name": "python",
   "nbconvert_exporter": "python",
   "pygments_lexer": "ipython3",
   "version": "3.10.9"
  }
 },
 "nbformat": 4,
 "nbformat_minor": 5
}
